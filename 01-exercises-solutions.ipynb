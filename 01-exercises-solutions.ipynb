{
 "cells": [
  {
   "cell_type": "markdown",
   "metadata": {
    "colab_type": "text",
    "id": "NXdvvep3n8GN"
   },
   "source": [
    "# DSCI 511: Data acquisition and pre-processing<br>Chapter 1: Introduction, process, and getting started with data\n",
    "## Exercises\n",
    "Note: numberings refer to the main notes."
   ]
  },
  {
   "cell_type": "markdown",
   "metadata": {
    "colab_type": "text",
    "id": "d0_YJVl1n8GP"
   },
   "source": [
    "#### 1.4.2.3 Exercise: Loading data from a JSON file\n",
    "Load the example JSON file (`colors.json`) containing some data about colors. Use Python's `json` module to load the file ([source](https://github.com/corysimmons/colors.json/blob/master/colors.json)), and use the name of a color, e.g., `name = 'magenta'` as a _key_ to the dictionary (more on these in Chapter 2) result, e.g., `result[name]` to see the RGB intensities that mix to make the color."
   ]
  },
  {
   "cell_type": "code",
   "execution_count": 1,
   "metadata": {
    "colab": {
     "base_uri": "https://localhost:8080/",
     "height": 34
    },
    "colab_type": "code",
    "executionInfo": {
     "elapsed": 303,
     "status": "ok",
     "timestamp": 1600729815017,
     "user": {
      "displayName": "Dr. Jake",
      "photoUrl": "",
      "userId": "10996578946780976051"
     },
     "user_tz": 240
    },
    "id": "cTv-N4S7n8GS",
    "outputId": "bcbabe25-eb8f-4e8e-8a99-af0b2b8e7da5"
   },
   "outputs": [
    {
     "data": {
      "text/plain": [
       "[255, 0, 255, 1]"
      ]
     },
     "execution_count": 1,
     "metadata": {},
     "output_type": "execute_result"
    }
   ],
   "source": [
    "## code here\n",
    "import json\n",
    "data = json.load(open(\"./data/colors.json\", \"r\"))\n",
    "\n",
    "data['magenta']"
   ]
  },
  {
   "cell_type": "markdown",
   "metadata": {
    "colab_type": "text",
    "id": "TufvjtHKn8Ge"
   },
   "source": [
    "#### 1.4.2.5 Exercise: XML\n",
    "Load an [example XML file](https://gist.github.com/sghael/2930380) of colors (`colors.xml`) and extract a single color of your choosing from the result."
   ]
  },
  {
   "cell_type": "code",
   "execution_count": 2,
   "metadata": {
    "colab": {
     "base_uri": "https://localhost:8080/",
     "height": 193
    },
    "colab_type": "code",
    "executionInfo": {
     "elapsed": 6339,
     "status": "ok",
     "timestamp": 1600729986932,
     "user": {
      "displayName": "Dr. Jake",
      "photoUrl": "",
      "userId": "10996578946780976051"
     },
     "user_tz": 240
    },
    "id": "BVNxfNxm8H6g",
    "outputId": "a93d3ea2-f55b-4939-f779-284c3ef4c6c9"
   },
   "outputs": [],
   "source": [
    "# !pip3 install dicttoxml"
   ]
  },
  {
   "cell_type": "code",
   "execution_count": 3,
   "metadata": {
    "colab": {
     "base_uri": "https://localhost:8080/",
     "height": 106
    },
    "colab_type": "code",
    "executionInfo": {
     "elapsed": 3541,
     "status": "ok",
     "timestamp": 1600729994416,
     "user": {
      "displayName": "Dr. Jake",
      "photoUrl": "",
      "userId": "10996578946780976051"
     },
     "user_tz": 240
    },
    "id": "mKAgNvSb8IMB",
    "outputId": "7d5882eb-07f6-4564-d2c9-3cc6ac7a4003"
   },
   "outputs": [],
   "source": [
    "# !pip3 install xmltodict"
   ]
  },
  {
   "cell_type": "code",
   "execution_count": 4,
   "metadata": {
    "colab": {},
    "colab_type": "code",
    "id": "yuIEBRuzn8Gh"
   },
   "outputs": [],
   "source": [
    "## code here\n",
    "import dicttoxml, xmltodict\n",
    "\n",
    "with open('./data/colors.xml', 'r') as f:\n",
    "  data = xmltodict.parse(f.read())"
   ]
  },
  {
   "cell_type": "code",
   "execution_count": 5,
   "metadata": {
    "colab": {
     "base_uri": "https://localhost:8080/",
     "height": 34
    },
    "colab_type": "code",
    "executionInfo": {
     "elapsed": 324,
     "status": "ok",
     "timestamp": 1600731009646,
     "user": {
      "displayName": "Dr. Jake",
      "photoUrl": "",
      "userId": "10996578946780976051"
     },
     "user_tz": 240
    },
    "id": "I8-Mg5l5-vwX",
    "outputId": "ea285ea8-79ff-4021-8d78-09821e897b2a"
   },
   "outputs": [
    {
     "data": {
      "text/plain": [
       "OrderedDict([('@name', 'lavender_blush'), ('#text', '#FFF0F5')])"
      ]
     },
     "execution_count": 5,
     "metadata": {},
     "output_type": "execute_result"
    }
   ],
   "source": [
    "data['resources']['color'][9]"
   ]
  },
  {
   "cell_type": "markdown",
   "metadata": {
    "colab_type": "text",
    "id": "zVw4Lz7Un8Gt"
   },
   "source": [
    "#### 1.4.2.7 Exercise: load a csv with a header\n",
    "Use the `csv.reader()` function to the load the `APPL.csv` stock prices spreadsheet. Print the first 10 rows and infer what the columns mean from the header. Note: Stock history for APPL were retrieved from [Yahoo](https://finance.yahoo.com/quote/AAPL/history?p=AAPL). How would you utilize the header information separately in a data structure to ease access to columns?"
   ]
  },
  {
   "cell_type": "code",
   "execution_count": 6,
   "metadata": {
    "colab": {},
    "colab_type": "code",
    "id": "VQ7VYm8Gn8Gu"
   },
   "outputs": [],
   "source": [
    "## code here\n",
    "import csv\n",
    "\n",
    "APPL_reader = csv.reader(open(\"./data/APPL.csv\", \"r\")) \n",
    "APPL = list(APPL_reader)"
   ]
  },
  {
   "cell_type": "code",
   "execution_count": 7,
   "metadata": {
    "colab": {
     "base_uri": "https://localhost:8080/",
     "height": 34
    },
    "colab_type": "code",
    "executionInfo": {
     "elapsed": 319,
     "status": "ok",
     "timestamp": 1600731757660,
     "user": {
      "displayName": "Dr. Jake",
      "photoUrl": "",
      "userId": "10996578946780976051"
     },
     "user_tz": 240
    },
    "id": "_zZ6p1PYCVon",
    "outputId": "cf3f7c89-d741-49cd-cf21-ed01b53134d5"
   },
   "outputs": [
    {
     "name": "stdout",
     "output_type": "stream",
     "text": [
      "<class 'list'> <class '_csv.reader'>\n"
     ]
    }
   ],
   "source": [
    "print(type(APPL), type(APPL_reader))"
   ]
  },
  {
   "cell_type": "code",
   "execution_count": 8,
   "metadata": {
    "colab": {
     "base_uri": "https://localhost:8080/",
     "height": 191
    },
    "colab_type": "code",
    "executionInfo": {
     "elapsed": 279,
     "status": "ok",
     "timestamp": 1600732093114,
     "user": {
      "displayName": "Dr. Jake",
      "photoUrl": "",
      "userId": "10996578946780976051"
     },
     "user_tz": 240
    },
    "id": "mLvsyum3DPeW",
    "outputId": "94b89be5-354a-43b3-b1af-669794e832d6"
   },
   "outputs": [],
   "source": [
    "i = 0\n",
    "for line in APPL_reader:\n",
    "  i += 1\n",
    "  print(line)\n",
    "  if i >= 10:\n",
    "    break\n"
   ]
  },
  {
   "cell_type": "markdown",
   "metadata": {
    "colab_type": "text",
    "id": "54y4P3-_stsP"
   },
   "source": [
    "## Additional In-depth Exercises\n",
    "### A. Set up Google Collaboratory on your browser and connect Google Drive\n",
    "\n",
    "\n",
    "1. Create a Gmail/Google account\n",
    "2. Log into Google Drive\n",
    "3. Create a Directory for your Collaboratory (Jupyter) notebooks\n",
    "4. Navigate the drop-down menu: new > more > connect more apps\n",
    "5. Search of Collaboratory app and Google-authorize its installation (make Colab the default app for files it can open)\n",
    "6. To create a new notebook, navigate the drop-down menu: new>more>Google Collaboratory\n",
    "7. To upload/open an existing notebook, navigate the drop-down menu:  \n",
    "  - new > File Upload or \n",
    "  - new > Folder Upload\n"
   ]
  },
  {
   "cell_type": "markdown",
   "metadata": {
    "colab_type": "text",
    "id": "SA0xQg_xP8g5"
   },
   "source": [
    "### B. Set up Google Collaboratory on you browser and connect Google Drive\n",
    "\n",
    "1. To work with data, you'll have to have a copy in your own drive:\n",
    "  ```\n",
    "  from google.colab import drive\n",
    "  drive.mount('/content/gdrive')\n",
    "  ```\n",
    "2. when executing for the first time, follow google's dialogue to connect the Google Drive File Stream (don't forget to copy the provided code into the colab notebook where you're working)\n",
    "3. load your data, read from: `/content/gdrive/My Drive/path/to/data`"
   ]
  },
  {
   "cell_type": "markdown",
   "metadata": {
    "colab_type": "text",
    "id": "Y3iSzoEG0jU-"
   },
   "source": [
    "### C. Find some data and load it into your Google Drive/Colab"
   ]
  },
  {
   "cell_type": "code",
   "execution_count": null,
   "metadata": {
    "colab": {},
    "colab_type": "code",
    "id": "FmSh33VpsuYu"
   },
   "outputs": [],
   "source": []
  }
 ],
 "metadata": {
  "colab": {
   "collapsed_sections": [],
   "name": "exercises.ipynb",
   "provenance": []
  },
  "kernelspec": {
   "display_name": "Python 3",
   "language": "python",
   "name": "python3"
  },
  "language_info": {
   "codemirror_mode": {
    "name": "ipython",
    "version": 3
   },
   "file_extension": ".py",
   "mimetype": "text/x-python",
   "name": "python",
   "nbconvert_exporter": "python",
   "pygments_lexer": "ipython3",
   "version": "3.8.6"
  }
 },
 "nbformat": 4,
 "nbformat_minor": 4
}
