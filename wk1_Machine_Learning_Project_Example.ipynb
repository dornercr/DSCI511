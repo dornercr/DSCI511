{
  "cells": [
    {
      "cell_type": "markdown",
      "metadata": {
        "id": "view-in-github",
        "colab_type": "text"
      },
      "source": [
        "<a href=\"https://colab.research.google.com/github/dornercr/DSCI511/blob/main/wk1_Machine_Learning_Project_Example.ipynb\" target=\"_parent\"><img src=\"https://colab.research.google.com/assets/colab-badge.svg\" alt=\"Open In Colab\"/></a>"
      ]
    },
    {
      "cell_type": "markdown",
      "metadata": {
        "id": "sHvtHA2g5fEU"
      },
      "source": [
        "For a Machine Learning Project, we usually need to go through these main steps:\n",
        "\n",
        "- Understanding the Objective\n",
        "- Data Acquisition\n",
        "- Data Pre-processing\n",
        "- Gain insights from Exploratory Data Analysis\n",
        "- Data preparation for Machine Learning\n",
        "- Select proper model(s)\n",
        "    * supervised or unsupervised?\n",
        "    * regression or classification?\n",
        "    * if with label, univariate regression/classification or multivariate regression/classification?\n",
        "    * what performance measure(s) to use?\n",
        "- Train model with hyperparameter tuning\n",
        "- Prediction & performance evaluation\n",
        "- Present Solution\n",
        "- Lauch, Monitor and maintain the system"
      ]
    },
    {
      "cell_type": "markdown",
      "metadata": {
        "id": "HThEF11s5fEW"
      },
      "source": [
        "# Setup"
      ]
    },
    {
      "cell_type": "code",
      "execution_count": null,
      "metadata": {
        "id": "O3sqQH2r5fEW"
      },
      "outputs": [],
      "source": [
        "# Common imports\n",
        "import numpy as np\n",
        "import pandas as pd\n",
        "\n",
        "# To plot pretty figures\n",
        "%matplotlib inline\n",
        "import matplotlib.pyplot as plt\n",
        "import matplotlib.image as mpimg\n",
        "\n",
        "# to make this notebook's output identical at every run\n",
        "np.random.seed(42)\n",
        "\n",
        "# Ignore useless warnings\n",
        "import warnings\n",
        "warnings.filterwarnings(action=\"ignore\", message=\"^internal gelsd\")"
      ]
    },
    {
      "cell_type": "markdown",
      "metadata": {
        "id": "JdYN1bv45fEX"
      },
      "source": [
        "# Get the data\n",
        "\n",
        "We will use California Housing data as example. It contains data drawn from the 1990 U.S. Census: realted literature:\n",
        "*Pace, R. Kelley, and Ronald Barry, \"Sparse Spatial Autoregressions,\" Statistics and Probability Letters, Volume 33, Number 3, May 5 1997, p. 291-297.*\n",
        ">We collected information on the variables using all the block groups in California from the 1990 Census. In this sample a block group on average includes 1425.5 individuals living in a geographically compact area. Naturally, the geographical area included varies inversely with the population density. We computed distances among the centroids of each block group as measured in latitude and longitude. We excluded all the block groups reporting zero entries for the independent and dependent variables. The final data contained 20,640 observations on 9 characteristics."
      ]
    },
    {
      "cell_type": "code",
      "source": [
        "from google.colab import drive\n",
        "drive.mount('/content/drive')"
      ],
      "metadata": {
        "id": "gTtOXUw95pv-"
      },
      "execution_count": null,
      "outputs": []
    },
    {
      "cell_type": "code",
      "execution_count": null,
      "metadata": {
        "id": "GUtBNbul5fEX"
      },
      "outputs": [],
      "source": [
        "housing = pd.read_csv('/content/drive/MyDrive/ColabNotebooks/data/housing.csv')\n",
        "housing.head()"
      ]
    },
    {
      "cell_type": "code",
      "execution_count": null,
      "metadata": {
        "scrolled": true,
        "id": "kDoyy8hU5fEY"
      },
      "outputs": [],
      "source": [
        "housing.info()"
      ]
    },
    {
      "cell_type": "markdown",
      "metadata": {
        "id": "i0lzD1Uj5fEY"
      },
      "source": [
        "Column `total_bedrooms` seem to have about 200 missing values; `ocean_proximity` is not numerical data."
      ]
    },
    {
      "cell_type": "code",
      "execution_count": null,
      "metadata": {
        "id": "kpaxkI6o5fEY"
      },
      "outputs": [],
      "source": [
        "# take a look how many districts belong to each category\n",
        "housing[\"ocean_proximity\"].value_counts()"
      ]
    },
    {
      "cell_type": "code",
      "execution_count": null,
      "metadata": {
        "id": "h7CJKynl5fEZ"
      },
      "outputs": [],
      "source": [
        "housing.describe()"
      ]
    },
    {
      "cell_type": "code",
      "execution_count": null,
      "metadata": {
        "id": "EbIjX6Da5fEZ"
      },
      "outputs": [],
      "source": [
        "# plot a histogram for each numerical attribute to get a feel of data\n",
        "%matplotlib inline\n",
        "import matplotlib.pyplot as plt\n",
        "housing.hist(bins=50, figsize=(20,15))\n",
        "plt.show()"
      ]
    },
    {
      "cell_type": "markdown",
      "metadata": {
        "id": "B_fxKJYs5fEZ"
      },
      "source": [
        "Observation:\n",
        "\n",
        "- These attributes have very different scales.\n",
        "- The `housing_median_age` and the `median_house_value` were capped. The `median_house_value` may be a serious problem since it is the label to predict. The Machine Learning algorithms may learn that prices never go beyond that limit. You need to check to see if this is a problem or not. If precise predictions even beyond 500,000 is needed, then you have two options:\n",
        "    * Option 1: Collect proper labels for the districts whose labels were capped.\n",
        "    * Option 2: Remove those districts from the dataset.\n",
        "    \n",
        "- Many attributes are right skewed. This may make it a bit harder for some Machine Learning algorithms to detect patterns. We will try transforming these attributes to have more bell-shaped distributions."
      ]
    },
    {
      "cell_type": "markdown",
      "metadata": {
        "id": "zlJ6jFUk5fEZ"
      },
      "source": [
        "### Split the data\n",
        "Scikit-Learn provides a few functions to split datasets into multiple subsets in various ways. The simplest function is `train_test_split()`, which provides a couple of additional features.\n",
        "- First, there is a random_state parameter that allows you to set the random generator seed.\n",
        "- Second, you can pass it multiple datasets with an identical number of rows, and it will split them on the same indices (this is very useful, for example, if you have a separate DataFrame for labels."
      ]
    },
    {
      "cell_type": "code",
      "execution_count": null,
      "metadata": {
        "id": "LHdK41Z35fEa"
      },
      "outputs": [],
      "source": [
        "from sklearn.model_selection import train_test_split\n",
        "\n",
        "train_set, test_set = train_test_split(housing, test_size=0.2, random_state=42)"
      ]
    },
    {
      "cell_type": "code",
      "execution_count": null,
      "metadata": {
        "scrolled": false,
        "id": "VAkZFbKr5fEa"
      },
      "outputs": [],
      "source": [
        "test_set.head()"
      ]
    },
    {
      "cell_type": "markdown",
      "metadata": {
        "id": "GOox4HVh5fEa"
      },
      "source": [
        "So far we have considered purely random sampling methods. This is generally fine if the dataset is large enough (especially relative to the number of attributes), but if it is not, will face the risk of introducing a significant sampling bias.\n",
        "\n",
        "When a survey company decides to call 1,000 people to ask them a few questions, they don’t just pick 1,000 people randomly in a phone book. They try to ensure that these 1,000 people are representative of the whole population.\n",
        "\n",
        "For example, the US population is 51.3% females and 48.7% males, so a well-conducted survey in the US would try to maintain this ratio in the sample: 513 female and 487 male. This is called **stratified sampling**: the population is divided into homogeneous subgroups called **strata**, and the right number of instances are sampled from each stratum to guarantee that the test set is representative of the overall population."
      ]
    },
    {
      "cell_type": "markdown",
      "metadata": {
        "id": "Ct9uChTD5fEa"
      },
      "source": [
        "Suppose `median_income` is a very important attribute to predict median housing prices. We want to ensure that the test set is representative of the various categories of incomes in the whole dataset.\n",
        "\n",
        "Since the `median_income` is a continuous numerical attribute, we first need to create an income category attribute. It is important to have a sufficient number of instances in for each stratum, or else the estimate of a stratum’s importance may be biased. This means that we should not have too many strata, and each stratum should be large enough."
      ]
    },
    {
      "cell_type": "code",
      "execution_count": null,
      "metadata": {
        "id": "o9Ba_C625fEa"
      },
      "outputs": [],
      "source": [
        "housing[\"median_income\"].hist()"
      ]
    },
    {
      "cell_type": "code",
      "execution_count": null,
      "metadata": {
        "id": "NAIR7U9w5fEb"
      },
      "outputs": [],
      "source": [
        "housing[\"income_cat\"] = pd.cut(housing[\"median_income\"],\n",
        "                               bins=[0., 1.5, 3.0, 4.5, 6., np.inf],\n",
        "                               labels=[1, 2, 3, 4, 5])"
      ]
    },
    {
      "cell_type": "code",
      "execution_count": null,
      "metadata": {
        "id": "fBT8j5wC5fEb"
      },
      "outputs": [],
      "source": [
        "housing[\"income_cat\"].value_counts()"
      ]
    },
    {
      "cell_type": "code",
      "execution_count": null,
      "metadata": {
        "scrolled": true,
        "id": "n43AbJOW5fEb"
      },
      "outputs": [],
      "source": [
        "housing[\"income_cat\"].hist()"
      ]
    },
    {
      "cell_type": "markdown",
      "metadata": {
        "id": "TMRIkAGX5fEc"
      },
      "source": [
        "The `stratify` within `train_test_split` offers an option for stratified sampling."
      ]
    },
    {
      "cell_type": "code",
      "execution_count": null,
      "metadata": {
        "id": "ZWoB8OES5fEc"
      },
      "outputs": [],
      "source": [
        "strat_train_set, strat_test_set = train_test_split(housing, test_size=0.2, random_state=42,\n",
        "                                         stratify = housing[\"income_cat\"])"
      ]
    },
    {
      "cell_type": "markdown",
      "metadata": {
        "id": "_sjvLBTx5fEc"
      },
      "source": [
        "We can also use Scikit-Learn’s `StratifiedShuffleSplit` to realize stratified sampling."
      ]
    },
    {
      "cell_type": "code",
      "execution_count": null,
      "metadata": {
        "id": "dMUu0Bh05fEc"
      },
      "outputs": [],
      "source": [
        "from sklearn.model_selection import StratifiedShuffleSplit\n",
        "\n",
        "split = StratifiedShuffleSplit(n_splits=1, test_size=0.2, random_state=42)\n",
        "for train_index, test_index in split.split(housing, housing[\"income_cat\"]):\n",
        "    strat_train_set1 = housing.loc[train_index]\n",
        "    strat_test_set1 = housing.loc[test_index]"
      ]
    },
    {
      "cell_type": "markdown",
      "metadata": {
        "id": "2w29FlE05fEc"
      },
      "source": [
        "we can take a look at the comparison of stratified sampling and random sampling."
      ]
    },
    {
      "cell_type": "code",
      "execution_count": null,
      "metadata": {
        "id": "WWSC55gm5fEc"
      },
      "outputs": [],
      "source": [
        "def income_cat_proportions(data):\n",
        "    return data[\"income_cat\"].value_counts() / len(data)\n",
        "\n",
        "train_set, test_set = train_test_split(housing, test_size=0.2, random_state=42)\n",
        "\n",
        "compare_props = pd.DataFrame({\n",
        "    \"Overall\": income_cat_proportions(housing),\n",
        "    \"Stratified\": income_cat_proportions(strat_test_set), # train_test_split\n",
        "    \"Stratified1\": income_cat_proportions(strat_test_set1), # StratifiedShuffleSplit\n",
        "    \"Random\": income_cat_proportions(test_set),\n",
        "}).sort_index()\n",
        "compare_props[\"Rand. %error\"] = 100 * compare_props[\"Random\"] / compare_props[\"Overall\"] - 100\n",
        "compare_props[\"Strat. %error\"] = 100 * compare_props[\"Stratified\"] / compare_props[\"Overall\"] - 100\n",
        "\n",
        "compare_props"
      ]
    },
    {
      "cell_type": "code",
      "execution_count": null,
      "metadata": {
        "id": "ET2ffs2b5fEc"
      },
      "outputs": [],
      "source": [
        "housing[\"income_cat\"].value_counts() / len(housing)"
      ]
    },
    {
      "cell_type": "code",
      "execution_count": null,
      "metadata": {
        "id": "5-fhLraT5fEc"
      },
      "outputs": [],
      "source": [
        "# remove the income_cat attribute so the data is back to its original\n",
        "for set_ in (strat_train_set, strat_test_set):\n",
        "    set_.drop(\"income_cat\", axis=1, inplace=True)"
      ]
    },
    {
      "cell_type": "markdown",
      "metadata": {
        "id": "exVhGjBm5fEd"
      },
      "source": [
        "# Gain insights"
      ]
    },
    {
      "cell_type": "code",
      "execution_count": null,
      "metadata": {
        "id": "uSJKqqlC5fEd"
      },
      "outputs": [],
      "source": [
        "housing = strat_train_set.copy()"
      ]
    },
    {
      "cell_type": "code",
      "execution_count": null,
      "metadata": {
        "scrolled": false,
        "id": "aroG8cBl5fEd"
      },
      "outputs": [],
      "source": [
        "california_img=mpimg.imread(\"/content/drive/MyDrive/ColabNotebooks/images/california.png\")\n",
        "ax = housing.plot(kind=\"scatter\", x=\"longitude\", y=\"latitude\", figsize=(10,7),\n",
        "                       s=housing['population']/100, label=\"Population\",\n",
        "                       c=\"median_house_value\", cmap=plt.get_cmap(\"jet\"),\n",
        "                       colorbar=False, alpha=0.4,\n",
        "                      )\n",
        "plt.imshow(california_img, extent=[-124.55, -113.80, 32.45, 42.05], alpha=0.5,\n",
        "           cmap=plt.get_cmap(\"jet\"))\n",
        "plt.ylabel(\"Latitude\", fontsize=14)\n",
        "plt.xlabel(\"Longitude\", fontsize=14)\n",
        "\n",
        "prices = housing[\"median_house_value\"]\n",
        "tick_values = np.linspace(prices.min(), prices.max(), 11)\n",
        "cbar = plt.colorbar()\n",
        "cbar.ax.set_yticklabels([\"$%dk\"%(round(v/1000)) for v in tick_values], fontsize=14)\n",
        "cbar.set_label('Median House Value', fontsize=16)\n",
        "\n",
        "plt.legend(fontsize=16)\n",
        "plt.show()"
      ]
    },
    {
      "cell_type": "markdown",
      "metadata": {
        "id": "IQs1n-k-5fEd"
      },
      "source": [
        "### Looking for correlations\n",
        "\n",
        "Since the dataset is not too large, we can easily compute the standard correlation coefficient (also called Pearson’s r) between every pair of attributes using the `corr()` method."
      ]
    },
    {
      "cell_type": "code",
      "execution_count": null,
      "metadata": {
        "id": "dNf8YeDd5fEd"
      },
      "outputs": [],
      "source": [
        "corr_matrix = housing.select_dtypes(include=['number']).corr()\n",
        "corr_matrix[\"median_house_value\"].sort_values(ascending=False)"
      ]
    },
    {
      "cell_type": "markdown",
      "metadata": {
        "id": "-Bb40wLI5fEd"
      },
      "source": [
        "The correlation coefficient ranges from –1 to 1.\n",
        "- When it is close to 1, it means that there is a strong positive correlation; for example, the median house value tends to go up when the median income goes up.\n",
        "- When the coefficient is close to –1, it means that there is a strong negative correlation; we can see a small negative correlation between the latitude and the median house value (i.e., prices have a slight tendency to go down when head to north of California).\n",
        "- Finally, coefficients close to 0 mean that there is no linear correlation.\n",
        "\n",
        "<img src=\"https://drive.google.com/uc?id=1QZN9jp7x90ECQFjy71zyub6sHlshD0mF\" width=\"600\">"
      ]
    },
    {
      "cell_type": "markdown",
      "metadata": {
        "id": "wQIDrLX15fEd"
      },
      "source": [
        "Another way to check for correlation between attributes is to use the pandas `scatter_matrix()` function, which plots every numerical attribute against every other numerical attribute.\n",
        "\n",
        "We will just focus on a few promising attributes that seem most correlated with the `median_housing_value`."
      ]
    },
    {
      "cell_type": "code",
      "execution_count": null,
      "metadata": {
        "id": "ZzOYU7Y-5fEd"
      },
      "outputs": [],
      "source": [
        "from pandas.plotting import scatter_matrix\n",
        "\n",
        "attributes = [\"median_house_value\", \"median_income\", \"total_rooms\",\n",
        "              \"housing_median_age\"]\n",
        "scatter_matrix(housing[attributes], figsize=(12, 12))"
      ]
    },
    {
      "cell_type": "markdown",
      "metadata": {
        "id": "-IRdFxXx5fEe"
      },
      "source": [
        "The most promising attribute to predict the `median_house` value is the median income."
      ]
    },
    {
      "cell_type": "code",
      "execution_count": null,
      "metadata": {
        "scrolled": true,
        "id": "re7LoK2Y5fEe"
      },
      "outputs": [],
      "source": [
        "housing.plot(kind=\"scatter\", x=\"median_income\", y=\"median_house_value\",\n",
        "             alpha=0.1)\n",
        "plt.axis([0, 16, 0, 550000])"
      ]
    },
    {
      "cell_type": "markdown",
      "metadata": {
        "id": "UNFkzcM65fEe"
      },
      "source": [
        "This plot reveals a few things.\n",
        "- First, the correlation is indeed very strong: upward trend can be clearly seen, and the points are not too dispersed.\n",
        "- Second, the price cap that we noticed earlier is clearly visible as a horizontal line at 500,000. But this plot reveals other less obvious straight lines: a horizontal line around 450,000, another around 350,000, perhaps one around 280,000, and a few more below that.\n",
        "\n",
        "We may want to try removing the corresponding districts to prevent algorithms from learning to reproduce these data quirks."
      ]
    },
    {
      "cell_type": "markdown",
      "metadata": {
        "id": "LS2mZGjd5fEf"
      },
      "source": [
        "### Attribute Combinations\n",
        "\n",
        "One more thing you to do before preparing the data for Machine Learning algorithms is to try out various attribute combinations.\n",
        "\n",
        "- For example, the total number of rooms in a district is not very useful if we don’t know how many households there are. What we really want is the number of rooms per household.\n",
        "- Similarly, the total number of bedrooms by itself is not very useful: we probably want to compare it to the number of rooms.\n",
        "- The population per household also seems like an interesting attribute combination to look at."
      ]
    },
    {
      "cell_type": "code",
      "execution_count": null,
      "metadata": {
        "id": "K69I3jPi5fEf"
      },
      "outputs": [],
      "source": [
        "housing[\"rooms_per_household\"] = housing[\"total_rooms\"]/housing[\"households\"]\n",
        "housing[\"bedrooms_per_room\"] = housing[\"total_bedrooms\"]/housing[\"total_rooms\"]\n",
        "housing[\"population_per_household\"]=housing[\"population\"]/housing[\"households\"]\n",
        "\n",
        "# let’s look at the correlation matrix again\n",
        "corr_matrix = housing.select_dtypes(include=['number']).corr()\n",
        "corr_matrix[\"median_house_value\"].sort_values(ascending=False)"
      ]
    },
    {
      "cell_type": "markdown",
      "metadata": {
        "id": "ZA3fcZQa5fEf"
      },
      "source": [
        "The new `bedrooms_per_room` attribute is much more correlated with the median house value than the `total_rooms` or `total_bedrooms`. Apparently houses with a lower bedroom/room ratio tend to be more expensive. The `rooms_per_household` is also more informative than `total_rooms` in a district—obviously the larger the houses, the more expensive they are."
      ]
    },
    {
      "cell_type": "code",
      "execution_count": null,
      "metadata": {
        "id": "PfgATajm5fEf"
      },
      "outputs": [],
      "source": [
        "housing.plot(kind=\"scatter\", x=\"rooms_per_household\", y=\"median_house_value\",\n",
        "             alpha=0.2)\n",
        "plt.axis([0, 5, 0, 520000])\n",
        "plt.show()"
      ]
    },
    {
      "cell_type": "code",
      "execution_count": null,
      "metadata": {
        "id": "8XB8B_8e5fEf"
      },
      "outputs": [],
      "source": [
        "housing.describe()"
      ]
    },
    {
      "cell_type": "markdown",
      "metadata": {
        "id": "pYjn-vML5fEf"
      },
      "source": [
        "# Data preparation for Machine Learning algorithms\n",
        "\n",
        "It’s time to prepare the data for Machine Learning algorithms. Instead of doing this manually, we should write functions for this purpose, for several good reasons:\n",
        "\n",
        "- This will allow reproduce these transformations easily on any dataset (e.g., the next time get a fresh dataset).\n",
        "- We can gradually build a library of transformation functions that you can reuse in future projects.\n",
        "- We can use these functions in your live system to transform the new data before feeding it to ML algorithms."
      ]
    },
    {
      "cell_type": "code",
      "execution_count": null,
      "metadata": {
        "id": "GiQNfag75fEg"
      },
      "outputs": [],
      "source": [
        "# revert to a clean training set\n",
        "# separate the predictors and the labels\n",
        "housing = strat_train_set.drop(\"median_house_value\", axis=1) # drop labels for training set\n",
        "housing_labels = strat_train_set[\"median_house_value\"].copy()"
      ]
    },
    {
      "cell_type": "markdown",
      "metadata": {
        "id": "7BrMJ-Sr5fEg"
      },
      "source": [
        "### Data Cleaning\n",
        "\n",
        "Most Machine Learning algorithms cannot work with missing features, so let’s create a few functions to take care of them. We saw earlier that the `total_bedrooms` attribute has some missing values, so let’s fix this with three options:\n",
        "1. Get rid of the corresponding districts.\n",
        "2. Get rid of the whole attribute.\n",
        "3. Set the values to some value (zero, the mean, the median, etc.).\n",
        "\n",
        "We can accomplish these easily using DataFrame’s `dropna()`, `drop()`, and `fillna()`."
      ]
    },
    {
      "cell_type": "code",
      "execution_count": null,
      "metadata": {
        "id": "pd5Uq4t15fEg"
      },
      "outputs": [],
      "source": [
        "def option_for_NA(df, col_name = \"total_bedrooms\", option=3):\n",
        "    if option == 1:\n",
        "        return df.dropna(subset=[col_name])\n",
        "    elif option == 2:\n",
        "        return df.drop(col_name, axis=1)\n",
        "    elif option == 3:\n",
        "        median = housing[col_name].median()\n",
        "        df[col_name].fillna(median, inplace=True)\n",
        "        return df"
      ]
    },
    {
      "cell_type": "markdown",
      "metadata": {
        "scrolled": true,
        "id": "3nD6Q6b15fEg"
      },
      "source": [
        "If choose option 3, DO NOT forget to save the median value computed. We will need it later to replace missing values in the test set when evaluate the system, and also once the system goes live to replace missing values in new data.\n",
        "\n",
        "Scikit-Learn provides a handy class to take care of missing values: `SimpleImputer`."
      ]
    },
    {
      "cell_type": "code",
      "execution_count": null,
      "metadata": {
        "id": "Y0ycYPOe5fEg"
      },
      "outputs": [],
      "source": [
        "from sklearn.impute import SimpleImputer\n",
        "imputer = SimpleImputer(strategy=\"median\")\n",
        "\n",
        "# Remove the text attribute because median can only be calculated on numerical attributes\n",
        "housing_num = housing.drop(\"ocean_proximity\", axis=1)\n",
        "\n",
        "# fit the imputer instance to the training data\n",
        "imputer.fit(housing_num)"
      ]
    },
    {
      "cell_type": "markdown",
      "metadata": {
        "id": "Mw5IyhAd5fEg"
      },
      "source": [
        "The imputer has simply computed the median of each attribute and stored the result in its `statistics_` instance variable. It is usually safer to apply the imputer to all the numerical attributes."
      ]
    },
    {
      "cell_type": "code",
      "execution_count": null,
      "metadata": {
        "id": "BbyXMVnD5fEg"
      },
      "outputs": [],
      "source": [
        "# Check this is the same as manually computing the median of each attribute\n",
        "imputer.statistics_ == housing_num.median().values"
      ]
    },
    {
      "cell_type": "markdown",
      "metadata": {
        "id": "lGa1GSSS5fEg"
      },
      "source": [
        "Transform the training set with imputer."
      ]
    },
    {
      "cell_type": "code",
      "execution_count": null,
      "metadata": {
        "id": "_ATOavmJ5fEh"
      },
      "outputs": [],
      "source": [
        "imputer.strategy"
      ]
    },
    {
      "cell_type": "code",
      "execution_count": null,
      "metadata": {
        "id": "mcd2-s5G5fEh"
      },
      "outputs": [],
      "source": [
        "X = imputer.transform(housing_num)\n",
        "\n",
        "housing_tr = pd.DataFrame(X, columns=housing_num.columns,\n",
        "                          index=housing_num.index)\n",
        "\n",
        "housing_tr.info()"
      ]
    },
    {
      "cell_type": "markdown",
      "metadata": {
        "id": "uw0ZT2vm5fEh"
      },
      "source": [
        "### Categorical attributes\n",
        "\n",
        "So far we have only dealt with numerical attributes. Now let's preprocess the categorical input feature, `ocean_proximity`.\n",
        "\n",
        "Most Machine Learning algorithms prefer to work with numbers, so let’s convert these categories from text to numbers. For this, we can use Scikit-Learn’s `OrdinalEncoder` class."
      ]
    },
    {
      "cell_type": "code",
      "execution_count": null,
      "metadata": {
        "id": "Qo9zJI6e5fEh"
      },
      "outputs": [],
      "source": [
        "from sklearn.preprocessing import OrdinalEncoder\n",
        "\n",
        "ordinal_encoder = OrdinalEncoder()\n",
        "housing_cat = housing[[\"ocean_proximity\"]]\n",
        "housing_cat_encoded = ordinal_encoder.fit_transform(housing_cat)\n",
        "housing_cat_encoded[:5]"
      ]
    },
    {
      "cell_type": "markdown",
      "metadata": {
        "id": "ekSLd4VF5fEh"
      },
      "source": [
        "We can get the list of categories using the `categories_` instance variable. It is a list containing a 1D array of categories for each categorical attribute."
      ]
    },
    {
      "cell_type": "code",
      "execution_count": null,
      "metadata": {
        "id": "dOoY3N0u5fEh"
      },
      "outputs": [],
      "source": [
        "ordinal_encoder.categories_"
      ]
    },
    {
      "cell_type": "markdown",
      "metadata": {
        "id": "XwLaWbhf5fEh"
      },
      "source": [
        "What is the problem here??\n",
        "\n",
        "One issue with this representation is that ML algorithms will assume that two nearby values are more similar than two distant values. This may be fine in some cases (e.g., for ordered categories such as “bad,” “average,” “good,” and “excellent”), but it is obviously not the case for the `ocean_proximity` column (for example, categories 0 and 4 are clearly more similar than categories 0 and 1). To fix this issue, a common solution is to create one binary attribute per category. The new attributes are sometimes called *dummy attributes*. Scikit-Learn provides a `OneHotEncoder` class to convert categorical values into one-hot vectors.\n",
        "\n",
        "By default, the `OneHotEncoder` class returns a sparse array, but we can convert it to a dense array if needed by calling the `toarray()` method."
      ]
    },
    {
      "cell_type": "code",
      "execution_count": null,
      "metadata": {
        "id": "nPLSnDJg5fEi"
      },
      "outputs": [],
      "source": [
        "from sklearn.preprocessing import OneHotEncoder\n",
        "\n",
        "cat_encoder = OneHotEncoder()\n",
        "housing_cat_1hot = cat_encoder.fit_transform(housing_cat)\n",
        "housing_cat_1hot.toarray()\n",
        "\n",
        "# alternatively, set sparse=False\n",
        "# cat_encoder = OneHotEncoder(sparse=False)"
      ]
    },
    {
      "cell_type": "code",
      "execution_count": null,
      "metadata": {
        "id": "RwZKqEMW5fEi"
      },
      "outputs": [],
      "source": [
        "# get the list of categories\n",
        "cat_encoder.categories_"
      ]
    },
    {
      "cell_type": "markdown",
      "metadata": {
        "id": "7iA7H5wY5fEi"
      },
      "source": [
        "### Custom Transformer\n",
        "\n",
        "Although Scikit-Learn provides many useful transformers, we will need to write our own for tasks such as custom cleanup operations or combining specific attributes. We will want our transformer to work seamlessly with Scikit-Learn functionalities (such as pipelines), and since Scikit-Learn relies on duck typing (not inheritance), all we need to do is create a class and implement three methods: `fit()` (returning self), `transform()`, and `fit_transform()`.\n",
        "\n",
        "We can get the last one for free by simply adding `TransformerMixin` as a base class. If add `BaseEstimator` as a base class (and avoid `*args` and `**kargs` in the constructor), we will also get two extra methods (`get_params()` and `set_params()`) that will be useful for automatic hyperparameter tuning."
      ]
    },
    {
      "cell_type": "code",
      "execution_count": null,
      "metadata": {
        "id": "XZampta-5fEi"
      },
      "outputs": [],
      "source": [
        "from sklearn.base import BaseEstimator, TransformerMixin\n",
        "\n",
        "# column index\n",
        "rooms_ix, bedrooms_ix, population_ix, households_ix = 3, 4, 5, 6\n",
        "\n",
        "class CombinedAttributesAdder(BaseEstimator, TransformerMixin):\n",
        "    def __init__(self, add_bedrooms_per_room = True): # no *args or **kargs\n",
        "        self.add_bedrooms_per_room = add_bedrooms_per_room\n",
        "    def fit(self, X, y=None):\n",
        "        return self  # nothing else to do\n",
        "    def transform(self, X):\n",
        "        rooms_per_household = X[:, rooms_ix] / X[:, households_ix]\n",
        "        population_per_household = X[:, population_ix] / X[:, households_ix]\n",
        "        if self.add_bedrooms_per_room:\n",
        "            bedrooms_per_room = X[:, bedrooms_ix] / X[:, rooms_ix]\n",
        "            return np.c_[X, rooms_per_household, population_per_household,\n",
        "                         bedrooms_per_room]\n",
        "        else:\n",
        "            return np.c_[X, rooms_per_household, population_per_household]\n",
        "\n",
        "attr_adder = CombinedAttributesAdder(add_bedrooms_per_room=False)\n",
        "housing_extra_attribs = attr_adder.transform(housing.values)\n",
        "housing_extra_attribs = pd.DataFrame(\n",
        "    housing_extra_attribs,\n",
        "    columns=list(housing.columns)+[\"rooms_per_household\", \"population_per_household\"],\n",
        "    index=housing.index)\n",
        "housing_extra_attribs.head()"
      ]
    },
    {
      "cell_type": "markdown",
      "metadata": {
        "id": "yhvnrXtH5fEi"
      },
      "source": [
        "In above example the transformer has one hyperparameter, `add_bedrooms_per_room`, set to `True` by default. This hyperparameter will allow us to easily find out whether adding this attribute helps the Machine Learning algorithms or not. More generally, we can add a hyperparameter to gate any data preparation step that you are not 100% sure about."
      ]
    },
    {
      "cell_type": "markdown",
      "metadata": {
        "id": "to_RdGXl5fEi"
      },
      "source": [
        "### Feature Scaling\n",
        "\n",
        "One of the most important transformations you need to apply to your data is **feature scaling**. With few exceptions, Machine Learning algorithms don’t perform well when the input numerical attributes have very different scales. *Note that scaling the target values is generally not required*.\n",
        "\n",
        "There are two common ways to get all attributes to have the same scale: **min-max scaling** and **standardization**.\n",
        "- Min-max scaling (many people call this normalization) is the simplest: values are shifted and rescaled so that they end up ranging from 0 to 1. We do this by subtracting the minimum value and dividing by (maximum - minimum). Scikit-Learn provides a transformer called `MinMaxScaler` for this. It has a `feature_range` hyperparameter that allow to  change the range.\n",
        "- Standardization is different: first it subtracts the mean value (so standardized values always have a zero mean), and then it divides by the standard deviation so that the resulting distribution has unit variance. Unlike min-max scaling, standardization does not bound values to a specific range, which may be a problem for some algorithms (e.g., neural networks often expect an input value ranging from 0 to 1). However, standardization is much less affected by outliers. For example, suppose a district had a median income equal to 100 (by mistake). Min-max scaling would then crush all the other values from 0–15 down to 0–0.15, whereas standardization would not be much affected. Scikit-Learn provides a transformer called `StandardScaler` for standardization.\n",
        "- other scalling:\n",
        "    * `MaxAbsScaler`: differs from the previous scaler such that the absolute values are mapped in the range [0, 1]. On positive only data, this scaler behaves similarly to MinMaxScaler and therefore also suffers from the presence of large outliers.\n",
        "    * `RobustScaler`: uses a similar method to the Min-Max scaler but it instead uses the interquartile range, rathar than the min-max, so that it is robust to outliers. After Robust scaling, the distributions are brought into the same scale and overlap, but the outliers remain outside of bulk of the new distributions.\n",
        "    * `Normalizer`: points are all brought within a sphere that is at most 1 away from the origin at any point. Also, the axes that were previously different scales are now all one scale."
      ]
    },
    {
      "cell_type": "markdown",
      "metadata": {
        "id": "KzjByqKI5fEi"
      },
      "source": [
        "### Transformation Pipelines\n",
        "\n",
        "As you can see, there are many data transformation steps that need to be executed in the right order. Fortunately, Scikit-Learn provides the `Pipeline` class to help with such sequences of transformations."
      ]
    },
    {
      "cell_type": "code",
      "execution_count": null,
      "metadata": {
        "id": "-y3T8SPd5fEi"
      },
      "outputs": [],
      "source": [
        "from sklearn.pipeline import Pipeline\n",
        "from sklearn.preprocessing import StandardScaler\n",
        "\n",
        "num_pipeline = Pipeline([\n",
        "        ('imputer', SimpleImputer(strategy=\"median\")),\n",
        "        ('attribs_adder', CombinedAttributesAdder()),\n",
        "        ('std_scaler', StandardScaler()),\n",
        "    ])\n",
        "\n",
        "housing_num_tr = num_pipeline.fit_transform(housing_num)"
      ]
    },
    {
      "cell_type": "markdown",
      "metadata": {
        "id": "iJZSnDHy5fEj"
      },
      "source": [
        "So far, we have handled the categorical columns and the numerical columns separately. It would be more convenient to have a single transformer able to handle all columns, applying the appropriate transformations to each column.\n",
        "\n",
        "Scikit-Learn introduced the `ColumnTransformer` for this purpose."
      ]
    },
    {
      "cell_type": "code",
      "execution_count": null,
      "metadata": {
        "id": "knQOtlmJ5fEj"
      },
      "outputs": [],
      "source": [
        "from sklearn.compose import ColumnTransformer\n",
        "\n",
        "num_attribs = list(housing_num)\n",
        "cat_attribs = [\"ocean_proximity\"]\n",
        "\n",
        "full_pipeline = ColumnTransformer([\n",
        "        (\"num\", num_pipeline, num_attribs),\n",
        "        (\"cat\", OneHotEncoder(), cat_attribs),\n",
        "    ])\n",
        "\n",
        "housing_prepared = full_pipeline.fit_transform(housing)"
      ]
    },
    {
      "cell_type": "code",
      "execution_count": null,
      "metadata": {
        "id": "oVZ-jQMf5fEj"
      },
      "outputs": [],
      "source": [
        "housing_prepared.shape"
      ]
    },
    {
      "cell_type": "markdown",
      "metadata": {
        "id": "s3m3n1as5fEj"
      },
      "source": [
        "Note that the `OneHotEncoder` returns a sparse matrix, while the `num_pipeline` returns a dense matrix. When there is such a mix of sparse and dense matrices, the `ColumnTransformer` estimates the density of the final matrix (i.e., the ratio of nonzero cells), and it returns a sparse matrix if the density is lower than a given threshold (by default, sparse_threshold=0.3)."
      ]
    },
    {
      "cell_type": "markdown",
      "metadata": {
        "id": "h_UM9u455fEj"
      },
      "source": [
        "# Select and train a model\n",
        "\n",
        "We are now ready to select and train a Machine Learning model!\n",
        "\n",
        "### Linear Regression\n",
        "\n",
        "Let's first try on Linear Regression"
      ]
    },
    {
      "cell_type": "code",
      "execution_count": null,
      "metadata": {
        "id": "YVZRDPF05fEj"
      },
      "outputs": [],
      "source": [
        "from sklearn.linear_model import LinearRegression\n",
        "\n",
        "lin_reg = LinearRegression()\n",
        "lin_reg.fit(housing_prepared, housing_labels)"
      ]
    },
    {
      "cell_type": "markdown",
      "metadata": {
        "id": "HVdyucdl5fEk"
      },
      "source": [
        "Compare against the actual values:\n",
        "\n",
        "A typical performance measure for regression problems is the Root Mean Square Error (RMSE). It gives an idea of how much error the system typically makes in its predictions, with a higher weight for large errors.\n",
        "\n",
        "$$RMSE = \\sqrt{\\frac{1}{m}\\sum_{i = 1}^m(h(x^{(i)})-y^{(i)})^2}$$\n",
        "\n",
        "Even though the RMSE is generally the preferred performance measure for regression tasks, in some contexts you may prefer to use another function. For example, suppose that there are many outlier districts. In that case, you may consider using the mean absolute error (MAE).\n",
        "\n",
        "$$MAE(X,h)=\\frac{1}{m}\\sum_{i=1}^m|h(x^{(i)})-y^{(i)}|$$\n",
        "\n",
        "Both the RMSE and the MAE are ways to measure the distance between two vectors: the vector of predictions and the vector of target values. RMSE corresponds to the Euclidean distance, MAE corresponds to the Manhattan distance."
      ]
    },
    {
      "cell_type": "code",
      "execution_count": null,
      "metadata": {
        "id": "sZtLAcEt5fEk"
      },
      "outputs": [],
      "source": [
        "from sklearn.metrics import mean_squared_error\n",
        "\n",
        "housing_predictions = lin_reg.predict(housing_prepared)\n",
        "lin_mse = mean_squared_error(housing_labels, housing_predictions)\n",
        "lin_rmse = np.sqrt(lin_mse)\n",
        "lin_rmse"
      ]
    },
    {
      "cell_type": "code",
      "execution_count": null,
      "metadata": {
        "id": "xDf2pSAm5fEk"
      },
      "outputs": [],
      "source": [
        "from sklearn.metrics import mean_absolute_error\n",
        "\n",
        "lin_mae = mean_absolute_error(housing_labels, housing_predictions)\n",
        "lin_mae"
      ]
    },
    {
      "cell_type": "markdown",
      "metadata": {
        "id": "GAej4Wtq5fEk"
      },
      "source": [
        "### Decision Tree\n",
        "A prediction error of 68,628 of `median_housing_values` which range between 120,000 and 265,000 is not very satisfying. Let's try a more powerful model."
      ]
    },
    {
      "cell_type": "code",
      "execution_count": null,
      "metadata": {
        "id": "PIcqpTZ35fEk"
      },
      "outputs": [],
      "source": [
        "from sklearn.tree import DecisionTreeRegressor\n",
        "\n",
        "tree_reg = DecisionTreeRegressor(random_state=42)\n",
        "tree_reg.fit(housing_prepared, housing_labels)\n",
        "\n",
        "housing_predictions = tree_reg.predict(housing_prepared)\n",
        "tree_mse = mean_squared_error(housing_labels, housing_predictions)\n",
        "tree_rmse = np.sqrt(tree_mse)\n",
        "tree_rmse"
      ]
    },
    {
      "cell_type": "markdown",
      "metadata": {
        "id": "FM5H-4Wv5fEk"
      },
      "source": [
        "No error at all? Could this model really be absolutely perfect?"
      ]
    }
  ],
  "metadata": {
    "kernelspec": {
      "display_name": "Python 3",
      "language": "python",
      "name": "python3"
    },
    "language_info": {
      "codemirror_mode": {
        "name": "ipython",
        "version": 3
      },
      "file_extension": ".py",
      "mimetype": "text/x-python",
      "name": "python",
      "nbconvert_exporter": "python",
      "pygments_lexer": "ipython3",
      "version": "3.8.6"
    },
    "nav_menu": {
      "height": "279px",
      "width": "309px"
    },
    "toc": {
      "nav_menu": {},
      "number_sections": true,
      "sideBar": true,
      "skip_h1_title": false,
      "toc_cell": false,
      "toc_position": {},
      "toc_section_display": "block",
      "toc_window_display": false
    },
    "colab": {
      "provenance": [],
      "include_colab_link": true
    }
  },
  "nbformat": 4,
  "nbformat_minor": 0
}