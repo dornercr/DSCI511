{
  "nbformat": 4,
  "nbformat_minor": 0,
  "metadata": {
    "colab": {
      "provenance": [],
      "authorship_tag": "ABX9TyONyPfArYZPekFx7o4GN6Q5",
      "include_colab_link": true
    },
    "kernelspec": {
      "name": "python3",
      "display_name": "Python 3"
    },
    "language_info": {
      "name": "python"
    }
  },
  "cells": [
    {
      "cell_type": "markdown",
      "metadata": {
        "id": "view-in-github",
        "colab_type": "text"
      },
      "source": [
        "<a href=\"https://colab.research.google.com/github/dornercr/DSCI511/blob/main/DSCI511_lecture1.ipynb\" target=\"_parent\"><img src=\"https://colab.research.google.com/assets/colab-badge.svg\" alt=\"Open In Colab\"/></a>"
      ]
    },
    {
      "cell_type": "markdown",
      "source": [
        "### Basic Data Types in Python\n",
        "- **Booleans**: `True` / `False`, often used in logic.\n",
        "- **Integers**: Exact whole numbers.\n",
        "- **Floats**: Decimal numbers, stored in scientific notation under the hood.\n",
        "\n",
        "📖 References:  \n",
        "- [Python Booleans](https://docs.python.org/3/library/stdtypes.html#boolean-values)  \n",
        "- [Python Numbers](https://docs.python.org/3/library/stdtypes.html#numeric-types-int-float-complex)\n"
      ],
      "metadata": {
        "id": "QPgHyPMXBskH"
      }
    },
    {
      "cell_type": "code",
      "source": [
        "print(\"--- Booleans ---\")\n",
        "print(bool())               # Default False\n",
        "print(True and False)       # False\n",
        "print(bool([]))             # Empty list = False\n",
        "print(bool([1, 2, 3]))      # Non-empty list = True\n",
        "\n",
        "print(\"\\n--- Integers ---\")\n",
        "x = 13\n",
        "print(x, type(x))\n",
        "print(x + 7)\n",
        "print(int())                # 0 by default\n",
        "\n",
        "print(\"\\n--- Floats ---\")\n",
        "print(float())              # 0.0 by default\n",
        "y = 13 / 2\n",
        "print(y, type(y))           # Float division in Python 3\n",
        "print(3.14 * 2)\n"
      ],
      "metadata": {
        "colab": {
          "base_uri": "https://localhost:8080/",
          "height": 0
        },
        "id": "76-KNeD2BuU8",
        "outputId": "7bd049dd-ede8-40da-d1c5-15b7243eb2af"
      },
      "execution_count": 1,
      "outputs": [
        {
          "output_type": "stream",
          "name": "stdout",
          "text": [
            "--- Booleans ---\n",
            "False\n",
            "False\n",
            "False\n",
            "True\n",
            "\n",
            "--- Integers ---\n",
            "13 <class 'int'>\n",
            "20\n",
            "0\n",
            "\n",
            "--- Floats ---\n",
            "0.0\n",
            "6.5 <class 'float'>\n",
            "6.28\n"
          ]
        }
      ]
    },
    {
      "cell_type": "markdown",
      "source": [
        "### Strings & Encodings\n",
        "- **ASCII**: 128 characters, one byte each.  \n",
        "- **Unicode**: Global standard, supports virtually all writing systems.  \n",
        "- **UTF-8**: Efficient compromise, 1–4 bytes per character.  \n",
        "\n",
        "📖 References:  \n",
        "- [ASCII Table](https://en.wikipedia.org/wiki/ASCII)  \n",
        "- [Unicode Standard](https://home.unicode.org/)  \n",
        "- [UTF-8 Explained](https://en.wikipedia.org/wiki/UTF-8)\n"
      ],
      "metadata": {
        "id": "c6n9LOh_B9Sv"
      }
    },
    {
      "cell_type": "code",
      "source": [
        "print(\"--- Strings & Encodings ---\")\n",
        "\n",
        "# ASCII string\n",
        "ascii_str = \"Hello\"\n",
        "print(ascii_str.encode(\"ascii\"))\n",
        "\n",
        "# Unicode string with accent\n",
        "unicode_str = \"Café\"\n",
        "print(unicode_str.encode(\"utf-8\"))\n",
        "\n",
        "# Strings in other scripts\n",
        "chinese = \"数据\"   # \"data\" in Chinese\n",
        "arabic = \"بيانات\" # \"data\" in Arabic\n",
        "print(chinese.encode(\"utf-8\"))\n",
        "print(arabic.encode(\"utf-8\"))\n"
      ],
      "metadata": {
        "colab": {
          "base_uri": "https://localhost:8080/",
          "height": 0
        },
        "id": "vZtBRKa3B6g_",
        "outputId": "4f73015e-d621-4c2e-fa3c-d2305665248e"
      },
      "execution_count": 2,
      "outputs": [
        {
          "output_type": "stream",
          "name": "stdout",
          "text": [
            "--- Strings & Encodings ---\n",
            "b'Hello'\n",
            "b'Caf\\xc3\\xa9'\n",
            "b'\\xe6\\x95\\xb0\\xe6\\x8d\\xae'\n",
            "b'\\xd8\\xa8\\xd9\\x8a\\xd8\\xa7\\xd9\\x86\\xd8\\xa7\\xd8\\xaa'\n"
          ]
        }
      ]
    },
    {
      "cell_type": "markdown",
      "source": [
        "### UTF-8 Encoding\n",
        "- Uses **variable-length encoding**.  \n",
        "- English characters = 1 byte.  \n",
        "- Characters like `—` (em dash) or Chinese characters take more.  \n",
        "\n",
        "📖 References:  \n",
        "- [UTF-8 Byte Layout](https://en.wikipedia.org/wiki/UTF-8#Description)\n"
      ],
      "metadata": {
        "id": "A4FisAXeCDXJ"
      }
    },
    {
      "cell_type": "code",
      "source": [
        "char = \"—\"  # em dash\n",
        "encoded = char.encode(\"utf-8\")\n",
        "print(\"Character:\", char)\n",
        "print(\"UTF-8 bytes:\", encoded)\n",
        "print(\"Length in bytes:\", len(encoded))\n"
      ],
      "metadata": {
        "colab": {
          "base_uri": "https://localhost:8080/",
          "height": 0
        },
        "id": "15He4vg0CD5D",
        "outputId": "7507900b-5b1f-44a1-e184-58a49b1a6f71"
      },
      "execution_count": 3,
      "outputs": [
        {
          "output_type": "stream",
          "name": "stdout",
          "text": [
            "Character: —\n",
            "UTF-8 bytes: b'\\xe2\\x80\\x94'\n",
            "Length in bytes: 3\n"
          ]
        }
      ]
    },
    {
      "cell_type": "markdown",
      "source": [
        "### Images as Data\n",
        "- **Vector images**: Defined by equations (infinitely scalable).  \n",
        "- **Raster images**: Grids of pixels (real-world data).  \n",
        "- Pixels store values for Red, Green, Blue (and sometimes Alpha = transparency).  \n",
        "\n",
        "📖 References:  \n",
        "- [Raster vs Vector](https://www.printcnx.com/resources-and-support/addiational-resources/raster-images-vs-vector-graphics/)  \n",
        "- [PIL (Python Imaging Library)](https://pillow.readthedocs.io/en/stable/)\n"
      ],
      "metadata": {
        "id": "wY81_hzRCHmH"
      }
    },
    {
      "cell_type": "code",
      "source": [
        "from PIL import Image, ImageDraw\n",
        "\n",
        "# Create a blank white image\n",
        "img = Image.new(\"RGBA\", (200, 200), (255, 255, 255, 255))\n",
        "draw = ImageDraw.Draw(img)\n",
        "\n",
        "# Draw a yellow circle for the face\n",
        "draw.ellipse((25, 25, 175, 175), fill=(255, 255, 0, 255), outline=(0, 0, 0, 255))\n",
        "\n",
        "# Draw two black eyes\n",
        "draw.ellipse((65, 70, 85, 90), fill=(0, 0, 0, 255))\n",
        "draw.ellipse((115, 70, 135, 90), fill=(0, 0, 0, 255))\n",
        "\n",
        "# Draw a smile\n",
        "draw.arc((75, 100, 125, 150), start=0, end=180, fill=(0, 0, 0, 255), width=3)\n",
        "\n",
        "# Save base smiley\n",
        "img.save(\"smiley.png\")\n",
        "img.show()\n",
        "\n",
        "# Now make \"crazy eyes\" by changing pixels\n",
        "pixels = img.load()\n",
        "for i in range(65, 85):   # left eye block\n",
        "    for j in range(70, 90):\n",
        "        pixels[i, j] = (255, 0, 0, 255)  # red\n",
        "\n",
        "for i in range(115, 135): # right eye block\n",
        "    for j in range(70, 90):\n",
        "        pixels[i, j] = (0, 255, 0, 255)  # green\n",
        "\n",
        "img.save(\"smiley_crazy.png\")\n",
        "img.show()\n"
      ],
      "metadata": {
        "id": "EQAjPIDTCIhU"
      },
      "execution_count": 15,
      "outputs": []
    },
    {
      "cell_type": "code",
      "source": [
        "from IPython.display import Image, display\n",
        "\n",
        "# After saving with PIL\n",
        "img.save(\"smiley.png\")\n",
        "\n",
        "# Show inline in Colab\n",
        "display(Image(filename=\"smiley.png\"))\n"
      ],
      "metadata": {
        "colab": {
          "base_uri": "https://localhost:8080/",
          "height": 217
        },
        "id": "UW4bn3iFDUQp",
        "outputId": "3e2a03ac-0e33-4e68-b816-70ff5786b2e1"
      },
      "execution_count": 16,
      "outputs": [
        {
          "output_type": "display_data",
          "data": {
            "image/png": "[encoded data removed]",
            "text/plain": [
              "<IPython.core.display.Image object>"
            ]
          },
          "metadata": {}
        }
      ]
    },
    {
      "cell_type": "markdown",
      "source": [
        "### Smiley Example  \n",
        "\n",
        "Here is the generated smiley face stored as a PNG:  \n",
        "\n",
        "![Smiley Face](smiley.png)  \n",
        "\n",
        "Notice how it’s drawn as a **raster image** — a grid of pixels. We can then manipulate individual pixel values in Python, like we did to give it “crazy eyes.”  \n"
      ],
      "metadata": {
        "id": "tBb6VUF-DMl9"
      }
    },
    {
      "cell_type": "markdown",
      "source": [
        "### File I/O Basics\n",
        "- `open(\"filename\", \"r\")` = read  \n",
        "- `open(\"filename\", \"w\")` = write (overwrites file)  \n",
        "- `open(\"filename\", \"a\")` = append  \n",
        "- Always use `with` to close files automatically.  \n",
        "\n",
        "📖 References:  \n",
        "- [Python File I/O](https://docs.python.org/3/tutorial/inputoutput.html#reading-and-writing-files)\n"
      ],
      "metadata": {
        "id": "ocha2YJxCVa9"
      }
    },
    {
      "cell_type": "code",
      "source": [
        "# Write to file\n",
        "with open(\"example.txt\", \"w\") as f:\n",
        "    f.write(\"Hello, world!\\nThis is a test file.\")\n",
        "\n",
        "# Read from file\n",
        "with open(\"example.txt\", \"r\") as f:\n",
        "    content = f.read()\n",
        "print(\"File content:\\n\", content)\n"
      ],
      "metadata": {
        "colab": {
          "base_uri": "https://localhost:8080/",
          "height": 0
        },
        "id": "DrbpUF8mCWLN",
        "outputId": "765bc1de-f9cd-4756-ac67-305d53178767"
      },
      "execution_count": 6,
      "outputs": [
        {
          "output_type": "stream",
          "name": "stdout",
          "text": [
            "File content:\n",
            " Hello, world!\n",
            "This is a test file.\n"
          ]
        }
      ]
    },
    {
      "cell_type": "markdown",
      "source": [
        "### File Formats\n",
        "- **Pickle**: Serialize Python objects (not portable, security risk).  \n",
        "- **JSON**: Human-readable, language independent.  \n",
        "- **XML**: Hierarchical, tag-based.  \n",
        "- **CSV**: Tabular, widely used in business.  \n",
        "\n",
        "📖 References:  \n",
        "- [Pickle Docs](https://docs.python.org/3/library/pickle.html)  \n",
        "- [JSON Docs](https://docs.python.org/3/library/json.html)  \n",
        "- [XML](https://en.wikipedia.org/wiki/XML)  \n",
        "- [CSV](https://en.wikipedia.org/wiki/Comma-separated_values)\n"
      ],
      "metadata": {
        "id": "XemBlqsECZud"
      }
    },
    {
      "cell_type": "code",
      "source": [
        "import pickle, json, csv\n",
        "import dicttoxml, xmltodict\n",
        "\n",
        "# Pickle\n",
        "data = {\"name\": \"Alice\", \"age\": 30}\n",
        "with open(\"data.pkl\", \"wb\") as f:\n",
        "    pickle.dump(data, f)\n",
        "with open(\"data.pkl\", \"rb\") as f:\n",
        "    print(\"Pickle loaded:\", pickle.load(f))\n",
        "\n",
        "# JSON\n",
        "with open(\"data.json\", \"w\") as f:\n",
        "    json.dump(data, f)\n",
        "with open(\"data.json\", \"r\") as f:\n",
        "    print(\"JSON loaded:\", json.load(f))\n",
        "\n",
        "# XML\n",
        "xml_data = dicttoxml.dicttoxml(data)\n",
        "print(\"XML string:\", xml_data.decode(\"utf-8\"))\n",
        "parsed = xmltodict.parse(xml_data)\n",
        "print(\"XML parsed:\", parsed)\n",
        "\n",
        "# CSV\n",
        "with open(\"data.csv\", \"w\", newline=\"\") as f:\n",
        "    writer = csv.DictWriter(f, fieldnames=data.keys())\n",
        "    writer.writeheader()\n",
        "    writer.writerow(data)\n",
        "with open(\"data.csv\", \"r\") as f:\n",
        "    print(\"CSV content:\\n\", f.read())\n"
      ],
      "metadata": {
        "colab": {
          "base_uri": "https://localhost:8080/",
          "height": 0
        },
        "id": "iomK9LRfCabD",
        "outputId": "bb0c6728-a808-4717-dd1c-7d805d8c1041"
      },
      "execution_count": 11,
      "outputs": [
        {
          "output_type": "stream",
          "name": "stdout",
          "text": [
            "Pickle loaded: {'name': 'Alice', 'age': 30}\n",
            "JSON loaded: {'name': 'Alice', 'age': 30}\n",
            "XML string: <?xml version=\"1.0\" encoding=\"UTF-8\" ?><root><name type=\"str\">Alice</name><age type=\"int\">30</age></root>\n",
            "XML parsed: {'root': {'name': {'@type': 'str', '#text': 'Alice'}, 'age': {'@type': 'int', '#text': '30'}}}\n",
            "CSV content:\n",
            " name,age\n",
            "Alice,30\n",
            "\n"
          ]
        }
      ]
    },
    {
      "cell_type": "markdown",
      "source": [
        "### Summary\n",
        "- Data science combines analytics, software engineering, and domain expertise.  \n",
        "- 80% of the work = acquiring and cleaning data.  \n",
        "- Data types: booleans, ints, floats, strings, images, files.  \n",
        "- Encodings (ASCII, Unicode, UTF-8) matter for text.  \n",
        "- File formats (Pickle, JSON, XML, CSV) enable exchange.  \n",
        "- Images are just arrays of pixels — numbers we can manipulate.\n",
        "\n",
        "📖 Extra Reading:  \n",
        "- [Data Science Venn Diagram](http://drewconway.com/zia/2013/3/26/the-data-science-venn-diagram)  \n",
        "- [Exploratory Data Analysis](https://en.wikipedia.org/wiki/Exploratory_data_analysis)  \n",
        "- [Garbage In, Garbage Out](https://en.wikipedia.org/wiki/Garbage_in,_garbage_out)\n"
      ],
      "metadata": {
        "id": "MCGS0to_CtQx"
      }
    }
  ]
}